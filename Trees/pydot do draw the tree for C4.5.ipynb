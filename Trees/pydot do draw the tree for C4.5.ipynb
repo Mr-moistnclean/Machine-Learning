{
 "cells": [
  {
   "cell_type": "code",
   "execution_count": 2,
   "id": "e81959d5-0511-47f0-8c5d-6829590ca4f1",
   "metadata": {},
   "outputs": [
    {
     "name": "stdout",
     "output_type": "stream",
     "text": [
      "no stored variable or alias split_history_c45\n"
     ]
    },
    {
     "ename": "NameError",
     "evalue": "name 'split_history_c45' is not defined",
     "output_type": "error",
     "traceback": [
      "\u001b[31m---------------------------------------------------------------------------\u001b[39m",
      "\u001b[31mNameError\u001b[39m                                 Traceback (most recent call last)",
      "\u001b[36mCell\u001b[39m\u001b[36m \u001b[39m\u001b[32mIn[2]\u001b[39m\u001b[32m, line 17\u001b[39m\n\u001b[32m     14\u001b[39m     tree.write(\u001b[33m'\u001b[39m\u001b[33mc45_tree.png\u001b[39m\u001b[33m'\u001b[39m, \u001b[38;5;28mformat\u001b[39m=\u001b[33m'\u001b[39m\u001b[33mpng\u001b[39m\u001b[33m'\u001b[39m)\n\u001b[32m     16\u001b[39m \u001b[38;5;66;03m# Plot and display the tree\u001b[39;00m\n\u001b[32m---> \u001b[39m\u001b[32m17\u001b[39m plot_tree(\u001b[43msplit_history_c45\u001b[49m)\n\u001b[32m     19\u001b[39m \u001b[38;5;28;01mfrom\u001b[39;00m\u001b[38;5;250m \u001b[39m\u001b[34;01mIPython\u001b[39;00m\u001b[34;01m.\u001b[39;00m\u001b[34;01mdisplay\u001b[39;00m\u001b[38;5;250m \u001b[39m\u001b[38;5;28;01mimport\u001b[39;00m Image\n\u001b[32m     20\u001b[39m Image(filename=\u001b[33m'\u001b[39m\u001b[33mc45_tree.png\u001b[39m\u001b[33m'\u001b[39m)\n",
      "\u001b[31mNameError\u001b[39m: name 'split_history_c45' is not defined"
     ]
    }
   ],
   "source": [
    "# Exercise 2: Draw the tree for C4.5 using pydot\n",
    "\n",
    "# Restore the stored variable\n",
    "%store -r split_history_c45\n",
    "\n",
    "# Function to plot the tree from split history\n",
    "def plot_tree(split_history):\n",
    "    import pydot\n",
    "    tree = pydot.Dot(graph_type='graph')\n",
    "    for split in split_history:\n",
    "        parent, child = split\n",
    "        edge = pydot.Edge(parent, child)\n",
    "        tree.add_edge(edge)\n",
    "    tree.write('c45_tree.png', format='png')\n",
    "\n",
    "# Plot and display the tree\n",
    "plot_tree(split_history_c45)\n",
    "\n",
    "from IPython.display import Image\n",
    "Image(filename='c45_tree.png')"
   ]
  },
  {
   "cell_type": "code",
   "execution_count": null,
   "id": "103d5c4e-aad3-4153-85b5-f3c64b3ef84b",
   "metadata": {},
   "outputs": [],
   "source": []
  },
  {
   "cell_type": "code",
   "execution_count": null,
   "id": "14d91080-d423-4b26-a191-846a1bd2f847",
   "metadata": {},
   "outputs": [],
   "source": []
  }
 ],
 "metadata": {
  "kernelspec": {
   "display_name": "Python 3 (ipykernel)",
   "language": "python",
   "name": "python3"
  },
  "language_info": {
   "codemirror_mode": {
    "name": "ipython",
    "version": 3
   },
   "file_extension": ".py",
   "mimetype": "text/x-python",
   "name": "python",
   "nbconvert_exporter": "python",
   "pygments_lexer": "ipython3",
   "version": "3.13.2"
  }
 },
 "nbformat": 4,
 "nbformat_minor": 5
}
