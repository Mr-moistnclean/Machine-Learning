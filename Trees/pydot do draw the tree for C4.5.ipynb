{
 "cells": [
  {
   "cell_type": "code",
   "execution_count": null,
   "id": "e81959d5-0511-47f0-8c5d-6829590ca4f1",
   "metadata": {},
   "outputs": [],
   "source": [
    "# Exercise 2: Draw the tree for C4.5 using pydot\n",
    "\n",
    "# Restore the stored variable\n",
    "%store -r split_history_c45\n",
    "\n",
    "# Function to plot the tree from split history\n",
    "def plot_tree(split_history):\n",
    "    import pydot\n",
    "    tree = pydot.Dot(graph_type='graph')\n",
    "    for split in split_history:\n",
    "        parent, child = split\n",
    "        edge = pydot.Edge(parent, child)\n",
    "        tree.add_edge(edge)\n",
    "    tree.write('c45_tree.png', format='png')\n",
    "\n",
    "# Plot and display the tree\n",
    "plot_tree(split_history_c45)\n",
    "\n",
    "from IPython.display import Image\n",
    "Image(filename='c45_tree.png')"
   ]
  },
  {
   "cell_type": "code",
   "execution_count": null,
   "id": "103d5c4e-aad3-4153-85b5-f3c64b3ef84b",
   "metadata": {},
   "outputs": [],
   "source": []
  },
  {
   "cell_type": "code",
   "execution_count": null,
   "id": "14d91080-d423-4b26-a191-846a1bd2f847",
   "metadata": {},
   "outputs": [],
   "source": []
  }
 ],
 "metadata": {
  "kernelspec": {
   "display_name": "Python 3 (ipykernel)",
   "language": "python",
   "name": "python3"
  },
  "language_info": {
   "codemirror_mode": {
    "name": "ipython",
    "version": 3
   },
   "file_extension": ".py",
   "mimetype": "text/x-python",
   "name": "python",
   "nbconvert_exporter": "python",
   "pygments_lexer": "ipython3",
   "version": "3.13.2"
  }
 },
 "nbformat": 4,
 "nbformat_minor": 5
}
