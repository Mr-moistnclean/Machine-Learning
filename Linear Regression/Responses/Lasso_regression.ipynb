{
 "cells": [
  {
   "cell_type": "code",
   "execution_count": 1,
   "id": "356aee23-d1a5-4c09-bbb3-3b5ee3f925c4",
   "metadata": {},
   "outputs": [
    {
     "data": {
      "text/plain": [
       "matrix([[-101.72397081,    1.16978757]])"
      ]
     },
     "execution_count": 1,
     "metadata": {},
     "output_type": "execute_result"
    }
   ],
   "source": [
    "import numpy as np\n",
    "\n",
    "def sgd():\n",
    "    # Given data\n",
    "    x = np.array([188, 181, 197, 168, 167, 187, 178, 194, 140, 176, 168, 192, 173, 142, 176]).reshape(-1, 1)\n",
    "    y = np.array([141, 106, 149, 59, 79, 136, 65, 136, 52, 87, 115, 140, 82, 69, 121]).reshape(-1, 1)\n",
    "\n",
    "    # Add bias term to X\n",
    "    x = np.asmatrix(np.c_[np.ones((15, 1)), x])  # Adding intercept (1s column)\n",
    "\n",
    "    # Regularization parameter\n",
    "    alpha = 0.1\n",
    "    \n",
    "    # Identity matrix for regularization\n",
    "    I = np.identity(2)\n",
    "\n",
    "    # Apply the closed-form solution to compute weights\n",
    "    w = np.linalg.inv(x.T @ x + alpha * I) @ x.T @ y\n",
    "    w = w.ravel()  # Flatten the result into a 1D array\n",
    "\n",
    "    return w\n",
    "\n",
    "# Call the function to compute weights\n",
    "weights = sgd()\n",
    "weights\n"
   ]
  }
 ],
 "metadata": {
  "kernelspec": {
   "display_name": "Python 3 (ipykernel)",
   "language": "python",
   "name": "python3"
  },
  "language_info": {
   "codemirror_mode": {
    "name": "ipython",
    "version": 3
   },
   "file_extension": ".py",
   "mimetype": "text/x-python",
   "name": "python",
   "nbconvert_exporter": "python",
   "pygments_lexer": "ipython3",
   "version": "3.13.2"
  }
 },
 "nbformat": 4,
 "nbformat_minor": 5
}
