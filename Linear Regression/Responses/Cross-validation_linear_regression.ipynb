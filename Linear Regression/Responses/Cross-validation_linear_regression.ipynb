{
 "cells": [
  {
   "cell_type": "code",
   "execution_count": 1,
   "id": "b6ae7aba-12fb-4d7e-a3d8-cd4d490cc9fa",
   "metadata": {},
   "outputs": [
    {
     "name": "stdout",
     "output_type": "stream",
     "text": [
      "Requirement already satisfied: numpy in c:\\users\\adamg\\appdata\\local\\programs\\python\\python313\\lib\\site-packages (2.2.4)\n",
      "Requirement already satisfied: scikit-learn in c:\\users\\adamg\\appdata\\local\\programs\\python\\python313\\lib\\site-packages (1.6.1)\n",
      "Requirement already satisfied: scipy>=1.6.0 in c:\\users\\adamg\\appdata\\local\\programs\\python\\python313\\lib\\site-packages (from scikit-learn) (1.15.2)\n",
      "Requirement already satisfied: joblib>=1.2.0 in c:\\users\\adamg\\appdata\\local\\programs\\python\\python313\\lib\\site-packages (from scikit-learn) (1.4.2)\n",
      "Requirement already satisfied: threadpoolctl>=3.1.0 in c:\\users\\adamg\\appdata\\local\\programs\\python\\python313\\lib\\site-packages (from scikit-learn) (3.6.0)\n"
     ]
    }
   ],
   "source": [
    "!pip install numpy scikit-learn"
   ]
  },
  {
   "cell_type": "code",
   "execution_count": 6,
   "id": "96c64516-bf8d-427d-a087-0175b24450df",
   "metadata": {},
   "outputs": [],
   "source": [
    "import numpy as np\n",
    "from sklearn.model_selection import train_test_split\n",
    "from sklearn.linear_model import LinearRegression\n",
    "from sklearn.metrics import mean_squared_error"
   ]
  },
  {
   "cell_type": "code",
   "execution_count": 7,
   "id": "1a0b09e5-87a4-4377-87bd-007332b8aca7",
   "metadata": {},
   "outputs": [],
   "source": [
    "# Given dataset\n",
    "x = np.array([188, 181, 197, 168, 167, 187, 178, 194, 140, 176, 168, 192, 173, 142, 176]).reshape(-1, 1)\n",
    "y = np.array([141, 106, 149, 59, 79, 136, 65, 136, 52, 87, 115, 140, 82, 69, 121]).reshape(-1, 1)\n",
    "\n",
    "# Cross-validation setup\n",
    "alphas = [0.1, 1.0, 10.0]  # Different alpha values\n",
    "errors = []"
   ]
  },
  {
   "cell_type": "code",
   "execution_count": 8,
   "id": "632df9a9-8624-4e8f-973b-4e9c3d1ae359",
   "metadata": {},
   "outputs": [],
   "source": [
    "# Cross-validation loop\n",
    "for alpha in alphas:\n",
    "    # Add the bias term to X (intercept term)\n",
    "    X = np.c_[np.ones((x.shape[0], 1)), x]\n",
    "    I = np.identity(X.shape[1])\n",
    "    \n",
    "    # Split the dataset into training and testing sets\n",
    "    X_train, X_test, y_train, y_test = train_test_split(X, y, test_size=0.3, random_state=42)\n",
    "\n",
    "    # Compute the weights using the closed-form solution\n",
    "    w = np.linalg.inv(X_train.T @ X_train + alpha * I) @ X_train.T @ y_train\n",
    "    w = w.ravel()\n",
    "\n",
    "    # Predict the target variable for the test set\n",
    "    y_pred = X_test @ w\n",
    "\n",
    "    # Calculate mean squared error (MSE) as the evaluation metric\n",
    "    mse = mean_squared_error(y_test, y_pred)\n",
    "    errors.append((alpha, mse))"
   ]
  },
  {
   "cell_type": "code",
   "execution_count": 9,
   "id": "3011ac05-561b-4ccc-b6db-92ca62b4b898",
   "metadata": {},
   "outputs": [
    {
     "data": {
      "text/plain": [
       "[(0.1, 461.4709007934098), (1.0, 652.6273785798745), (10.0, 696.1418210637946)]"
      ]
     },
     "execution_count": 9,
     "metadata": {},
     "output_type": "execute_result"
    }
   ],
   "source": [
    "# Show comparison results\n",
    "errors"
   ]
  }
 ],
 "metadata": {
  "kernelspec": {
   "display_name": "Python 3 (ipykernel)",
   "language": "python",
   "name": "python3"
  },
  "language_info": {
   "codemirror_mode": {
    "name": "ipython",
    "version": 3
   },
   "file_extension": ".py",
   "mimetype": "text/x-python",
   "name": "python",
   "nbconvert_exporter": "python",
   "pygments_lexer": "ipython3",
   "version": "3.13.2"
  }
 },
 "nbformat": 4,
 "nbformat_minor": 5
}
