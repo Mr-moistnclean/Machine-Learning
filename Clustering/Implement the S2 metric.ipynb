{
 "cells": [
  {
   "cell_type": "code",
   "execution_count": 1,
   "id": "c73cb8d3-623f-4f71-8afb-24e369ecdd0b",
   "metadata": {},
   "outputs": [],
   "source": [
    "import numpy\n",
    "import random\n",
    "import numpy as np\n",
    "import pandas as pd\n",
    "from math import sqrt\n",
    "\n",
    "import matplotlib.image as img\n",
    "from PIL import Image\n",
    "\n",
    "from matplotlib import pyplot as plt\n",
    "from mpl_toolkits.mplot3d import Axes3D\n",
    "\n",
    "from IPython.display import Image"
   ]
  },
  {
   "cell_type": "code",
   "execution_count": 2,
   "id": "f3855ab7-9b0a-49fc-86a2-b7c3aa436eff",
   "metadata": {},
   "outputs": [
    {
     "data": {
      "text/plain": [
       "[np.float64(0.40116697670087065),\n",
       " np.float64(0.7129319889345509),\n",
       " np.float64(0.40116697670087065),\n",
       " np.float64(1.0912980907761376),\n",
       " np.float64(0.7129319889345509),\n",
       " np.float64(1.0912980907761376)]"
      ]
     },
     "execution_count": 2,
     "metadata": {},
     "output_type": "execute_result"
    }
   ],
   "source": [
    "# Define the centers as per the instructions\n",
    "new_centers_hcm3 = np.array([[0.42239686, 0.38503185],\n",
    "                              [0.07858546, 0.17832272],\n",
    "                              [0.82907662, 0.97059448]])\n",
    "\n",
    "# Function to calculate S2 metric (distance between each pair of centers)\n",
    "def calculate_s_2(centers):\n",
    "    s2 = []\n",
    "    for center_1 in range(len(centers)):\n",
    "        for center_2 in range(len(centers)):\n",
    "            if center_1 != center_2:\n",
    "                # Calculate the Euclidean distance between centers\n",
    "                distance = np.sqrt(np.sum((centers[center_1] - centers[center_2]) ** 2))\n",
    "                s2.append(distance)\n",
    "    return s2\n",
    "\n",
    "# Calculate the S2 metric for the given centers\n",
    "s2_values = calculate_s_2(new_centers_hcm3)\n",
    "s2_values\n"
   ]
  },
  {
   "cell_type": "code",
   "execution_count": null,
   "id": "27df54ab-a689-4917-91ae-e3846a88a18f",
   "metadata": {},
   "outputs": [],
   "source": []
  }
 ],
 "metadata": {
  "kernelspec": {
   "display_name": "Python 3 (ipykernel)",
   "language": "python",
   "name": "python3"
  },
  "language_info": {
   "codemirror_mode": {
    "name": "ipython",
    "version": 3
   },
   "file_extension": ".py",
   "mimetype": "text/x-python",
   "name": "python",
   "nbconvert_exporter": "python",
   "pygments_lexer": "ipython3",
   "version": "3.13.2"
  }
 },
 "nbformat": 4,
 "nbformat_minor": 5
}
