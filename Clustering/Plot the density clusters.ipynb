{
 "cells": [
  {
   "cell_type": "code",
   "execution_count": 1,
   "id": "43fdb377-3dcd-4b3d-98f7-4881641dd5ec",
   "metadata": {},
   "outputs": [],
   "source": [
    "import numpy\n",
    "import random\n",
    "import numpy as np\n",
    "import pandas as pd\n",
    "from math import sqrt\n",
    "\n",
    "import matplotlib.image as img\n",
    "from PIL import Image\n",
    "\n",
    "from matplotlib import pyplot as plt\n",
    "from mpl_toolkits.mplot3d import Axes3D\n",
    "\n",
    "from IPython.display import Image"
   ]
  },
  {
   "cell_type": "code",
   "execution_count": 2,
   "id": "0ba4f723-da2c-42f2-98c8-fb8f4a874476",
   "metadata": {},
   "outputs": [
    {
     "ename": "NameError",
     "evalue": "name 'data_set' is not defined",
     "output_type": "error",
     "traceback": [
      "\u001b[31m---------------------------------------------------------------------------\u001b[39m",
      "\u001b[31mNameError\u001b[39m                                 Traceback (most recent call last)",
      "\u001b[36mCell\u001b[39m\u001b[36m \u001b[39m\u001b[32mIn[2]\u001b[39m\u001b[32m, line 40\u001b[39m\n\u001b[32m     37\u001b[39m     \u001b[38;5;28;01mreturn\u001b[39;00m labels\n\u001b[32m     39\u001b[39m \u001b[38;5;66;03m# Apply optimized DBSCAN clustering\u001b[39;00m\n\u001b[32m---> \u001b[39m\u001b[32m40\u001b[39m labels_optimized = dbscan_custom_optimized(\u001b[43mdata_set\u001b[49m, eps, min_samples)\n\u001b[32m     42\u001b[39m \u001b[38;5;66;03m# Define colors for the clusters\u001b[39;00m\n\u001b[32m     43\u001b[39m colors = [\u001b[33m'\u001b[39m\u001b[33mred\u001b[39m\u001b[33m'\u001b[39m, \u001b[33m'\u001b[39m\u001b[33mgreen\u001b[39m\u001b[33m'\u001b[39m, \u001b[33m'\u001b[39m\u001b[33mblue\u001b[39m\u001b[33m'\u001b[39m, \u001b[33m'\u001b[39m\u001b[33mgrey\u001b[39m\u001b[33m'\u001b[39m]  \u001b[38;5;66;03m# Noise points (label -1) will be grey\u001b[39;00m\n",
      "\u001b[31mNameError\u001b[39m: name 'data_set' is not defined"
     ]
    }
   ],
   "source": [
    "# Re-implementing DBSCAN clustering with an optimized expansion process to reduce memory usage\n",
    "\n",
    "def dbscan_custom_optimized(data, eps, min_samples):\n",
    "    labels = -1 * np.ones(len(data))  # Initially, all points are labeled as noise (-1)\n",
    "    cluster_id = 0  # Start cluster id\n",
    "    \n",
    "    # Helper function to find neighbors of a point within eps distance\n",
    "    def region_query(point_idx):\n",
    "        neighbors = []\n",
    "        for idx in range(len(data)):\n",
    "            if calculate_distance(data[point_idx], data[idx]) < eps:\n",
    "                neighbors.append(idx)\n",
    "        return neighbors\n",
    "    \n",
    "    # Expand clusters from core points using a simple queue for processing\n",
    "    def expand_cluster(point_idx, neighbors, cluster_id):\n",
    "        labels[point_idx] = cluster_id\n",
    "        to_visit = neighbors.copy()\n",
    "        \n",
    "        while to_visit:\n",
    "            current_point = to_visit.pop()\n",
    "            if labels[current_point] == -1:\n",
    "                labels[current_point] = cluster_id\n",
    "            \n",
    "            # Find new neighbors for the current point\n",
    "            new_neighbors = region_query(current_point)\n",
    "            if len(new_neighbors) >= min_samples:\n",
    "                to_visit.extend(new_neighbors)\n",
    "    \n",
    "    # Main loop over all points\n",
    "    for point_idx in range(len(data)):\n",
    "        if labels[point_idx] == -1:  # Point has not been visited yet\n",
    "            neighbors = region_query(point_idx)\n",
    "            if len(neighbors) >= min_samples:  # Point is a core point\n",
    "                expand_cluster(point_idx, neighbors, cluster_id)\n",
    "                cluster_id += 1  # Increment cluster ID when a new cluster is formed\n",
    "    return labels\n",
    "\n",
    "# Apply optimized DBSCAN clustering\n",
    "labels_optimized = dbscan_custom_optimized(data_set, eps, min_samples)\n",
    "\n",
    "# Define colors for the clusters\n",
    "colors = ['red', 'green', 'blue', 'grey']  # Noise points (label -1) will be grey\n",
    "\n",
    "# Plot the results\n",
    "fig, ax = plt.subplots(figsize=(8, 6))\n",
    "for i in range(len(data_set)):\n",
    "    label = labels_optimized[i]\n",
    "    color = colors[label + 1] if label != -1 else colors[3]  # Noise points get grey color\n",
    "    ax.scatter(data_set[i][0], data_set[i][1], c=color, alpha=0.6)\n",
    "\n",
    "ax.set_xlabel('X Coordinate')\n",
    "ax.set_ylabel('Y Coordinate')\n",
    "ax.set_title('Optimized Density-Based Clustering (DBSCAN) Visualization')\n",
    "plt.grid(True)\n",
    "plt.show()\n"
   ]
  }
 ],
 "metadata": {
  "kernelspec": {
   "display_name": "Python 3 (ipykernel)",
   "language": "python",
   "name": "python3"
  },
  "language_info": {
   "codemirror_mode": {
    "name": "ipython",
    "version": 3
   },
   "file_extension": ".py",
   "mimetype": "text/x-python",
   "name": "python",
   "nbconvert_exporter": "python",
   "pygments_lexer": "ipython3",
   "version": "3.13.2"
  }
 },
 "nbformat": 4,
 "nbformat_minor": 5
}
